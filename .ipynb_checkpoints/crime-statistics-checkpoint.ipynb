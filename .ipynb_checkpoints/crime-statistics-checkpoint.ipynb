{
 "cells": [
  {
   "cell_type": "code",
   "execution_count": 1,
   "metadata": {
    "editable": true
   },
   "outputs": [],
   "source": [
    "from pyspark.sql import SparkSession\n",
    "from pyspark.sql.types import (ArrayType, StructField, \n",
    "                               StructType, StringType, \n",
    "                               IntegerType, DateType,\n",
    "                               LongType, TimestampType)\n",
    "\n",
    "appName = \"SF Crime Statistics\"\n",
    "master = \"local\"\n",
    "\n",
    "# Create Spark session\n",
    "spark = SparkSession.builder \\\n",
    "    .appName(appName) \\\n",
    "    .master(master) \\\n",
    "    .getOrCreate()"
   ]
  },
  {
   "cell_type": "code",
   "execution_count": null,
   "metadata": {
    "editable": true
   },
   "outputs": [
    {
     "name": "stdout",
     "output_type": "stream",
     "text": [
      "StructType(List(StructField(crime_id,LongType,true),StructField(original_crime_type_name,StringType,true),StructField(report_date,StringType,true),StructField(call_date,StringType,true),StructField(offense_date,StringType,true),StructField(call_time,TimestampType,true),StructField(call_date_time,TimestampType,true),StructField(disposition,StringType,true),StructField(address,StringType,true),StructField(city,StringType,true),StructField(state,StringType,true),StructField(agency_id,LongType,true),StructField(address_type,StringType,true),StructField(common_location,StringType,true)))\n"
     ]
    }
   ],
   "source": [
    "json_schema = StructType([\n",
    "                    StructField(\"crime_id\", LongType(), True),\n",
    "                    StructField(\"original_crime_type_name\", StringType(), True),\n",
    "                    StructField(\"report_date\", StringType(), True),\n",
    "                    StructField(\"call_date\", StringType(), True),\n",
    "                    StructField(\"offense_date\", StringType(), True),\n",
    "                    StructField(\"call_time\", TimestampType(), True),\n",
    "                    StructField(\"call_date_time\", TimestampType(), True),\n",
    "                    StructField(\"disposition\", StringType(), True),\n",
    "                    StructField(\"address\", StringType(), True),\n",
    "                    StructField(\"city\", StringType(), True),\n",
    "                    StructField(\"state\", StringType(), True),\n",
    "                    StructField(\"agency_id\", LongType(), True),\n",
    "                    StructField(\"address_type\", StringType(), True),\n",
    "                    StructField(\"common_location\", StringType(), True)  \n",
    "                    ]\n",
    "                    )\n",
    "\n",
    "df = spark.read.option(\"header\",\"true\").schema(json_schema).json('police-department-calls-for-service.json')\n",
    "\n",
    "print(df.schema)\n",
    "#print(df.count())\n",
    "df = df.filter(df['crime_id'].isNotNull()).show()\n",
    "#df.show()\n",
    "df.show(10, False)"
   ]
  },
  {
   "cell_type": "code",
   "execution_count": null,
   "metadata": {
    "editable": true
   },
   "outputs": [],
   "source": [
    "df.show()"
   ]
  },
  {
   "cell_type": "code",
   "execution_count": null,
   "metadata": {
    "editable": true
   },
   "outputs": [],
   "source": []
  },
  {
   "cell_type": "code",
   "execution_count": null,
   "metadata": {
    "editable": true
   },
   "outputs": [],
   "source": [
    "\n",
    "import pandas as pd\n",
    "\n",
    "df2 = pd.read_json('police-department-calls-for-service.json')\n",
    "df2.describe()"
   ]
  },
  {
   "cell_type": "code",
   "execution_count": null,
   "metadata": {
    "editable": true
   },
   "outputs": [],
   "source": [
    "df2.head()"
   ]
  },
  {
   "cell_type": "code",
   "execution_count": null,
   "metadata": {
    "editable": true
   },
   "outputs": [],
   "source": [
    "df2.dtypes"
   ]
  },
  {
   "cell_type": "code",
   "execution_count": null,
   "metadata": {
    "editable": true
   },
   "outputs": [],
   "source": [
    "df3 = spark.createDataFrame(df2.head())"
   ]
  },
  {
   "cell_type": "code",
   "execution_count": null,
   "metadata": {
    "editable": true
   },
   "outputs": [],
   "source": [
    "df3.schema"
   ]
  },
  {
   "cell_type": "code",
   "execution_count": null,
   "metadata": {
    "editable": true
   },
   "outputs": [],
   "source": [
    "df3.show()"
   ]
  },
  {
   "cell_type": "code",
   "execution_count": null,
   "metadata": {
    "editable": true
   },
   "outputs": [],
   "source": []
  },
  {
   "cell_type": "code",
   "execution_count": null,
   "metadata": {
    "editable": true
   },
   "outputs": [],
   "source": []
  },
  {
   "cell_type": "code",
   "execution_count": null,
   "metadata": {
    "editable": true
   },
   "outputs": [],
   "source": []
  },
  {
   "cell_type": "code",
   "execution_count": null,
   "metadata": {
    "editable": true
   },
   "outputs": [],
   "source": []
  },
  {
   "cell_type": "code",
   "execution_count": null,
   "metadata": {
    "editable": true
   },
   "outputs": [],
   "source": []
  },
  {
   "cell_type": "code",
   "execution_count": null,
   "metadata": {
    "editable": true
   },
   "outputs": [],
   "source": []
  },
  {
   "cell_type": "code",
   "execution_count": null,
   "metadata": {
    "editable": true
   },
   "outputs": [],
   "source": []
  },
  {
   "cell_type": "code",
   "execution_count": null,
   "metadata": {
    "editable": true
   },
   "outputs": [],
   "source": []
  },
  {
   "cell_type": "code",
   "execution_count": null,
   "metadata": {
    "editable": true
   },
   "outputs": [],
   "source": []
  },
  {
   "cell_type": "code",
   "execution_count": null,
   "metadata": {
    "editable": true
   },
   "outputs": [],
   "source": []
  }
 ],
 "metadata": {
  "kernelspec": {
   "display_name": "Python 3",
   "language": "python",
   "name": "python3"
  },
  "language_info": {
   "codemirror_mode": {
    "name": "ipython",
    "version": 3
   },
   "file_extension": ".py",
   "mimetype": "text/x-python",
   "name": "python",
   "nbconvert_exporter": "python",
   "pygments_lexer": "ipython3",
   "version": "3.7.3"
  }
 },
 "nbformat": 4,
 "nbformat_minor": 4
}
